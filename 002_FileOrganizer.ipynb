{
 "cells": [
  {
   "cell_type": "markdown",
   "metadata": {},
   "source": [
    "# FILE ORGANIZER\n",
    "\n",
    "04/05/2023\n",
    "\n",
    "Este código foi copiado do vídeo ['2 Projetos de Automação em Python'](https://www.youtube.com/watch?v=K3kwVcJuz8I) do canal ['Hashtag Programação'](https://www.youtube.com/@HashtagProgramacao)"
   ]
  },
  {
   "cell_type": "code",
   "execution_count": null,
   "metadata": {},
   "outputs": [],
   "source": [
    "import os\n",
    "from tkinter.filedialog import askdirectory"
   ]
  },
  {
   "cell_type": "code",
   "execution_count": null,
   "metadata": {},
   "outputs": [],
   "source": [
    "path_chooser = askdirectory(title=\"Choose a path\")\n",
    "file_list = os.listdir(path_chooser)"
   ]
  },
  {
   "cell_type": "code",
   "execution_count": null,
   "metadata": {},
   "outputs": [],
   "source": [
    "new_paths = {\n",
    "    \"txt_files\": [\".txt\"],\n",
    "    \"pdf_files\": [\".pdf\"],\n",
    "    \"images\": [\".png\"]\n",
    "}"
   ]
  },
  {
   "cell_type": "code",
   "execution_count": null,
   "metadata": {},
   "outputs": [],
   "source": [
    "for file in file_list:\n",
    "    name, extension = os.path.splitext(f\"{path_chooser}/{file}\")\n",
    "    for path in new_paths:\n",
    "        if extension in new_paths[path]:\n",
    "            if not os.path.exists(f\"{path_chooser}/{path}\"):\n",
    "                os.mkdir(f\"{path_chooser}/{path}\")\n",
    "            os.rename(f\"{path_chooser}/{file}\", f\"{path_chooser}/{path}/{file}\")"
   ]
  },
  {
   "cell_type": "markdown",
   "metadata": {},
   "source": [
    "#### OBSERVAÇOES\n",
    "\n",
    "\n",
    "Utilizando o OS, o codigo apresenta falhas como nao exibiçao automatica da janela de escolha da pasta e looping infinito apos organizacao dos arquivos;"
   ]
  }
 ],
 "metadata": {
  "kernelspec": {
   "display_name": ".venv",
   "language": "python",
   "name": "python3"
  },
  "language_info": {
   "codemirror_mode": {
    "name": "ipython",
    "version": 3
   },
   "file_extension": ".py",
   "mimetype": "text/x-python",
   "name": "python",
   "nbconvert_exporter": "python",
   "pygments_lexer": "ipython3",
   "version": "3.8.2"
  },
  "orig_nbformat": 4
 },
 "nbformat": 4,
 "nbformat_minor": 2
}
